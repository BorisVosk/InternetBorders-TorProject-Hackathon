{
 "cells": [
  {
   "cell_type": "code",
   "execution_count": 2,
   "metadata": {},
   "outputs": [],
   "source": [
    "%matplotlib inline\n",
    "import matplotlib.pyplot as plt\n",
    "import pandas as pd\n",
    "import numpy as np"
   ]
  },
  {
   "cell_type": "code",
   "execution_count": 3,
   "metadata": {},
   "outputs": [
    {
     "data": {
      "text/html": [
       "<div>\n",
       "<style scoped>\n",
       "    .dataframe tbody tr th:only-of-type {\n",
       "        vertical-align: middle;\n",
       "    }\n",
       "\n",
       "    .dataframe tbody tr th {\n",
       "        vertical-align: top;\n",
       "    }\n",
       "\n",
       "    .dataframe thead th {\n",
       "        text-align: right;\n",
       "    }\n",
       "</style>\n",
       "<table border=\"1\" class=\"dataframe\">\n",
       "  <thead>\n",
       "    <tr style=\"text-align: right;\">\n",
       "      <th></th>\n",
       "      <th>date</th>\n",
       "      <th>relays</th>\n",
       "      <th>bridges</th>\n",
       "    </tr>\n",
       "  </thead>\n",
       "  <tbody>\n",
       "    <tr>\n",
       "      <th>0</th>\n",
       "      <td>2021-12-27</td>\n",
       "      <td>6637</td>\n",
       "      <td>2124</td>\n",
       "    </tr>\n",
       "    <tr>\n",
       "      <th>1</th>\n",
       "      <td>2021-12-28</td>\n",
       "      <td>6660</td>\n",
       "      <td>2136</td>\n",
       "    </tr>\n",
       "    <tr>\n",
       "      <th>2</th>\n",
       "      <td>2021-12-29</td>\n",
       "      <td>6694</td>\n",
       "      <td>2166</td>\n",
       "    </tr>\n",
       "    <tr>\n",
       "      <th>3</th>\n",
       "      <td>2021-12-30</td>\n",
       "      <td>6685</td>\n",
       "      <td>2213</td>\n",
       "    </tr>\n",
       "    <tr>\n",
       "      <th>4</th>\n",
       "      <td>2021-12-31</td>\n",
       "      <td>6681</td>\n",
       "      <td>2223</td>\n",
       "    </tr>\n",
       "  </tbody>\n",
       "</table>\n",
       "</div>"
      ],
      "text/plain": [
       "         date  relays  bridges\n",
       "0  2021-12-27    6637     2124\n",
       "1  2021-12-28    6660     2136\n",
       "2  2021-12-29    6694     2166\n",
       "3  2021-12-30    6685     2213\n",
       "4  2021-12-31    6681     2223"
      ]
     },
     "execution_count": 3,
     "metadata": {},
     "output_type": "execute_result"
    }
   ],
   "source": [
    "networksize_df = pd.read_csv('datasets/networksize-2021-12-27-2022-05-28.csv', skiprows=5)\n",
    "networksize_df.head(5)"
   ]
  },
  {
   "cell_type": "code",
   "execution_count": 4,
   "metadata": {},
   "outputs": [
    {
     "data": {
      "text/html": [
       "<div>\n",
       "<style scoped>\n",
       "    .dataframe tbody tr th:only-of-type {\n",
       "        vertical-align: middle;\n",
       "    }\n",
       "\n",
       "    .dataframe tbody tr th {\n",
       "        vertical-align: top;\n",
       "    }\n",
       "\n",
       "    .dataframe thead th {\n",
       "        text-align: right;\n",
       "    }\n",
       "</style>\n",
       "<table border=\"1\" class=\"dataframe\">\n",
       "  <thead>\n",
       "    <tr style=\"text-align: right;\">\n",
       "      <th></th>\n",
       "      <th>Russia</th>\n",
       "      <th>United States</th>\n",
       "      <th>Germany</th>\n",
       "      <th>Iran</th>\n",
       "      <th>France</th>\n",
       "      <th>United Kingdom</th>\n",
       "      <th>Netherlands</th>\n",
       "      <th>China</th>\n",
       "    </tr>\n",
       "    <tr>\n",
       "      <th>Month</th>\n",
       "      <th></th>\n",
       "      <th></th>\n",
       "      <th></th>\n",
       "      <th></th>\n",
       "      <th></th>\n",
       "      <th></th>\n",
       "      <th></th>\n",
       "      <th></th>\n",
       "    </tr>\n",
       "  </thead>\n",
       "  <tbody>\n",
       "    <tr>\n",
       "      <th>2021/12</th>\n",
       "      <td>30180</td>\n",
       "      <td>6825</td>\n",
       "      <td>3269</td>\n",
       "      <td>3121</td>\n",
       "      <td>1277</td>\n",
       "      <td>1634</td>\n",
       "      <td>1869</td>\n",
       "      <td>1573</td>\n",
       "    </tr>\n",
       "    <tr>\n",
       "      <th>2022/01</th>\n",
       "      <td>35046</td>\n",
       "      <td>7381</td>\n",
       "      <td>3464</td>\n",
       "      <td>2929</td>\n",
       "      <td>2076</td>\n",
       "      <td>1826</td>\n",
       "      <td>1671</td>\n",
       "      <td>1384</td>\n",
       "    </tr>\n",
       "    <tr>\n",
       "      <th>2022/02</th>\n",
       "      <td>32230</td>\n",
       "      <td>6704</td>\n",
       "      <td>3260</td>\n",
       "      <td>2368</td>\n",
       "      <td>1849</td>\n",
       "      <td>1800</td>\n",
       "      <td>1772</td>\n",
       "      <td>1362</td>\n",
       "    </tr>\n",
       "    <tr>\n",
       "      <th>2022/03</th>\n",
       "      <td>43160</td>\n",
       "      <td>7736</td>\n",
       "      <td>3330</td>\n",
       "      <td>1974</td>\n",
       "      <td>2463</td>\n",
       "      <td>1621</td>\n",
       "      <td>1915</td>\n",
       "      <td>1629</td>\n",
       "    </tr>\n",
       "    <tr>\n",
       "      <th>2022/04</th>\n",
       "      <td>36552</td>\n",
       "      <td>7100</td>\n",
       "      <td>2794</td>\n",
       "      <td>1989</td>\n",
       "      <td>1927</td>\n",
       "      <td>1429</td>\n",
       "      <td>1491</td>\n",
       "      <td>1678</td>\n",
       "    </tr>\n",
       "  </tbody>\n",
       "</table>\n",
       "</div>"
      ],
      "text/plain": [
       "         Russia  United States  Germany  Iran  France  United Kingdom  \\\n",
       "Month                                                                   \n",
       "2021/12   30180           6825     3269  3121    1277            1634   \n",
       "2022/01   35046           7381     3464  2929    2076            1826   \n",
       "2022/02   32230           6704     3260  2368    1849            1800   \n",
       "2022/03   43160           7736     3330  1974    2463            1621   \n",
       "2022/04   36552           7100     2794  1989    1927            1429   \n",
       "\n",
       "         Netherlands  China  \n",
       "Month                        \n",
       "2021/12         1869   1573  \n",
       "2022/01         1671   1384  \n",
       "2022/02         1772   1362  \n",
       "2022/03         1915   1629  \n",
       "2022/04         1491   1678  "
      ]
     },
     "execution_count": 4,
     "metadata": {},
     "output_type": "execute_result"
    }
   ],
   "source": [
    "daily_bridge_users_df = pd.read_csv('datasets/mean_daily_bridge_users_country.csv')\n",
    "daily_bridge_users_df.set_index('Month', inplace=True)\n",
    "daily_bridge_users_df.head()"
   ]
  },
  {
   "cell_type": "code",
   "execution_count": 5,
   "metadata": {},
   "outputs": [],
   "source": [
    "population_size_df = pd.read_csv('datasets/population_size_2022.csv')"
   ]
  },
  {
   "cell_type": "code",
   "execution_count": 6,
   "metadata": {},
   "outputs": [
    {
     "data": {
      "text/plain": [
       "<AxesSubplot:xlabel='Month'>"
      ]
     },
     "execution_count": 6,
     "metadata": {},
     "output_type": "execute_result"
    },
    {
     "data": {
      "image/png": "[encoded data removed]",
      "text/plain": [
       "<Figure size 432x288 with 1 Axes>"
      ]
     },
     "metadata": {
      "needs_background": "light"
     },
     "output_type": "display_data"
    }
   ],
   "source": [
    "daily_bridge_users_df.plot()"
   ]
  },
  {
   "cell_type": "code",
   "execution_count": 7,
   "metadata": {},
   "outputs": [],
   "source": [
    "bridge_users_adjusted_by_country_population = pd.DataFrame()"
   ]
  },
  {
   "cell_type": "code",
   "execution_count": 8,
   "metadata": {},
   "outputs": [
    {
     "data": {
      "text/html": [
       "<div>\n",
       "<style scoped>\n",
       "    .dataframe tbody tr th:only-of-type {\n",
       "        vertical-align: middle;\n",
       "    }\n",
       "\n",
       "    .dataframe tbody tr th {\n",
       "        vertical-align: top;\n",
       "    }\n",
       "\n",
       "    .dataframe thead th {\n",
       "        text-align: right;\n",
       "    }\n",
       "</style>\n",
       "<table border=\"1\" class=\"dataframe\">\n",
       "  <thead>\n",
       "    <tr style=\"text-align: right;\">\n",
       "      <th></th>\n",
       "      <th>Russia</th>\n",
       "      <th>United States</th>\n",
       "      <th>Germany</th>\n",
       "      <th>Iran</th>\n",
       "      <th>France</th>\n",
       "      <th>United Kingdom</th>\n",
       "      <th>Netherlands</th>\n",
       "      <th>China</th>\n",
       "    </tr>\n",
       "  </thead>\n",
       "  <tbody>\n",
       "    <tr>\n",
       "      <th>2021/12</th>\n",
       "      <td>0.000207</td>\n",
       "      <td>0.000020</td>\n",
       "      <td>0.000039</td>\n",
       "      <td>0.000036</td>\n",
       "      <td>0.000019</td>\n",
       "      <td>0.000024</td>\n",
       "      <td>0.000109</td>\n",
       "      <td>1.086315e-06</td>\n",
       "    </tr>\n",
       "    <tr>\n",
       "      <th>2022/01</th>\n",
       "      <td>0.000240</td>\n",
       "      <td>0.000022</td>\n",
       "      <td>0.000041</td>\n",
       "      <td>0.000034</td>\n",
       "      <td>0.000032</td>\n",
       "      <td>0.000027</td>\n",
       "      <td>0.000097</td>\n",
       "      <td>9.557911e-07</td>\n",
       "    </tr>\n",
       "    <tr>\n",
       "      <th>2022/02</th>\n",
       "      <td>0.000221</td>\n",
       "      <td>0.000020</td>\n",
       "      <td>0.000039</td>\n",
       "      <td>0.000028</td>\n",
       "      <td>0.000028</td>\n",
       "      <td>0.000026</td>\n",
       "      <td>0.000103</td>\n",
       "      <td>9.405979e-07</td>\n",
       "    </tr>\n",
       "    <tr>\n",
       "      <th>2022/03</th>\n",
       "      <td>0.000296</td>\n",
       "      <td>0.000023</td>\n",
       "      <td>0.000040</td>\n",
       "      <td>0.000023</td>\n",
       "      <td>0.000038</td>\n",
       "      <td>0.000024</td>\n",
       "      <td>0.000111</td>\n",
       "      <td>1.124988e-06</td>\n",
       "    </tr>\n",
       "    <tr>\n",
       "      <th>2022/04</th>\n",
       "      <td>0.000251</td>\n",
       "      <td>0.000021</td>\n",
       "      <td>0.000033</td>\n",
       "      <td>0.000023</td>\n",
       "      <td>0.000029</td>\n",
       "      <td>0.000021</td>\n",
       "      <td>0.000087</td>\n",
       "      <td>1.158828e-06</td>\n",
       "    </tr>\n",
       "    <tr>\n",
       "      <th>2022/05</th>\n",
       "      <td>0.000236</td>\n",
       "      <td>0.000019</td>\n",
       "      <td>0.000030</td>\n",
       "      <td>0.000030</td>\n",
       "      <td>0.000025</td>\n",
       "      <td>0.000020</td>\n",
       "      <td>0.000109</td>\n",
       "      <td>1.063525e-06</td>\n",
       "    </tr>\n",
       "  </tbody>\n",
       "</table>\n",
       "</div>"
      ],
      "text/plain": [
       "           Russia  United States   Germany      Iran    France  \\\n",
       "2021/12  0.000207       0.000020  0.000039  0.000036  0.000019   \n",
       "2022/01  0.000240       0.000022  0.000041  0.000034  0.000032   \n",
       "2022/02  0.000221       0.000020  0.000039  0.000028  0.000028   \n",
       "2022/03  0.000296       0.000023  0.000040  0.000023  0.000038   \n",
       "2022/04  0.000251       0.000021  0.000033  0.000023  0.000029   \n",
       "2022/05  0.000236       0.000019  0.000030  0.000030  0.000025   \n",
       "\n",
       "         United Kingdom  Netherlands         China  \n",
       "2021/12        0.000024     0.000109  1.086315e-06  \n",
       "2022/01        0.000027     0.000097  9.557911e-07  \n",
       "2022/02        0.000026     0.000103  9.405979e-07  \n",
       "2022/03        0.000024     0.000111  1.124988e-06  \n",
       "2022/04        0.000021     0.000087  1.158828e-06  \n",
       "2022/05        0.000020     0.000109  1.063525e-06  "
      ]
     },
     "execution_count": 8,
     "metadata": {},
     "output_type": "execute_result"
    }
   ],
   "source": [
    "\n",
    "bridge_users_adjusted_by_country_population = pd.DataFrame()\n",
    "for col in daily_bridge_users_df:\n",
    "  bridge_users_adjusted_by_country_population = pd.concat([bridge_users_adjusted_by_country_population, daily_bridge_users_df[col].div(population_size_df[col][0])], axis=1)\n",
    "bridge_users_adjusted_by_country_population"
   ]
  },
  {
   "cell_type": "code",
   "execution_count": null,
   "metadata": {},
   "outputs": [],
   "source": [
    "bridge_users_adjusted_by_country_population.plot()"
   ]
  }
 ],
 "metadata": {
  "interpreter": {
   "hash": "c47afd64d4583b60a8fd1fc63a41bc7d28a7c08fff7a412ddf6ee5e028e4f1b8"
  },
  "kernelspec": {
   "display_name": "Python 3.9.7 ('TorProjectHackathon')",
   "language": "python",
   "name": "python3"
  },
  "language_info": {
   "codemirror_mode": {
    "name": "ipython",
    "version": 3
   },
   "file_extension": ".py",
   "mimetype": "text/x-python",
   "name": "python",
   "nbconvert_exporter": "python",
   "pygments_lexer": "ipython3",
   "version": "3.9.7"
  },
  "orig_nbformat": 4
 },
 "nbformat": 4,
 "nbformat_minor": 2
}
